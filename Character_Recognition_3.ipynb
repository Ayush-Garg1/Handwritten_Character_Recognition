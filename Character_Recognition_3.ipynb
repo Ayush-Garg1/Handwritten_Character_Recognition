{
  "nbformat": 4,
  "nbformat_minor": 0,
  "metadata": {
    "colab": {
      "provenance": []
    },
    "kernelspec": {
      "name": "python3",
      "display_name": "Python 3"
    },
    "language_info": {
      "name": "python"
    }
  },
  "cells": [
    {
      "cell_type": "code",
      "execution_count": 68,
      "metadata": {
        "id": "N_flWd53Hznc"
      },
      "outputs": [],
      "source": [
        "import pandas as pd\n",
        "import numpy as np\n",
        "import tensorflow as tf\n",
        "from tensorflow import keras\n",
        "import matplotlib.pyplot as plt\n",
        "from tensorflow.keras.layers import Conv2D, MaxPooling2D, Dense, Flatten, Dropout, BatchNormalization\n",
        "import visualkeras as vk\n",
        "from keras.callbacks import ModelCheckpoint\n",
        "from sklearn.metrics import confusion_matrix\n",
        "from keras.models import Sequential"
      ]
    },
    {
      "cell_type": "code",
      "source": [
        "train = pd.read_csv('/content/emnist-balanced-train.csv')\n",
        "test = pd.read_csv('/content/emnist-balanced-test.csv')"
      ],
      "metadata": {
        "id": "M6XvCNHiJE2B"
      },
      "execution_count": 69,
      "outputs": []
    },
    {
      "cell_type": "code",
      "source": [
        "train = train.iloc[:-1, :]\n",
        "test = test.iloc[:-1, :]"
      ],
      "metadata": {
        "id": "COPb8bQ_JSpD"
      },
      "execution_count": 70,
      "outputs": []
    },
    {
      "cell_type": "code",
      "source": [
        "train_labels = train.iloc[:, 0]\n",
        "train_images = train.iloc[:, 1:]\n",
        "\n",
        "test_labels = test.iloc[:, 0]\n",
        "test_images = test.iloc[:, 1:]"
      ],
      "metadata": {
        "id": "wHG-ha3dJuBF"
      },
      "execution_count": 71,
      "outputs": []
    },
    {
      "cell_type": "code",
      "source": [
        "train_labels = np.asarray(train_labels)\n",
        "train_images = np.asarray(train_images)\n",
        "\n",
        "test_labels = np.asarray(test_labels)\n",
        "test_images = np.asarray(test_images)"
      ],
      "metadata": {
        "id": "61KdSj8XJ6al"
      },
      "execution_count": 72,
      "outputs": []
    },
    {
      "cell_type": "code",
      "source": [
        "print(f\"train --> {np.min(train_images)}\\t{np.max(train_images)}\\ntest --> {np.min(test_images)}\\t{np.max(test_images)}\")"
      ],
      "metadata": {
        "colab": {
          "base_uri": "https://localhost:8080/"
        },
        "id": "dYzic2z_KHAL",
        "outputId": "ab67a82f-485c-413b-c568-038409cf8060"
      },
      "execution_count": 73,
      "outputs": [
        {
          "output_type": "stream",
          "name": "stdout",
          "text": [
            "train --> 0.0\t255.0\n",
            "test --> 0.0\t255.0\n"
          ]
        }
      ]
    },
    {
      "cell_type": "code",
      "source": [
        "train_images = train_images / 255.0\n",
        "test_images = test_images / 255.0"
      ],
      "metadata": {
        "id": "1KI_AI87KIZ_"
      },
      "execution_count": 74,
      "outputs": []
    },
    {
      "cell_type": "code",
      "source": [
        "print(f\"train --> {np.min(train_images)}\\t{np.max(train_images)}\\ntest --> {np.min(test_images)}\\t{np.max(test_images)}\")"
      ],
      "metadata": {
        "colab": {
          "base_uri": "https://localhost:8080/"
        },
        "id": "o-asHFTaKcBD",
        "outputId": "fe62bae6-e582-4206-96cd-29f683deb720"
      },
      "execution_count": 75,
      "outputs": [
        {
          "output_type": "stream",
          "name": "stdout",
          "text": [
            "train --> 0.0\t1.0\n",
            "test --> 0.0\t1.0\n"
          ]
        }
      ]
    },
    {
      "cell_type": "code",
      "source": [
        "to_char = {\n",
        "    0: '0', 1: '1', 2: '2', 3: '3', 4: '4', 5: '5', 6: '6', 7: '7', 8: '8', 9: '9',\n",
        "    10: 'a', 11: 'b', 12: 'c', 13: 'd', 14: 'e', 15: 'f', 16: 'g', 17: 'h', 18: 'i', 19: 'j',\n",
        "    20: 'k', 21: 'l', 22: 'm', 23: 'n', 24: 'o', 25: 'p', 26: 'q', 27: 'r', 28: 's', 29: 't',\n",
        "    30: 'u', 31: 'v', 32: 'w', 33: 'x', 34: 'y', 35: 'z',\n",
        "    36: 'A', 37: 'B', 38: 'C', 39: 'D', 40: 'E', 41: 'F', 42: 'G', 43: 'H', 44: 'I', 45: 'J',\n",
        "    46: 'K', 47: 'L', 48: 'M', 49: 'N', 50: 'O', 51: 'P', 52: 'Q', 53: 'R', 54: 'S', 55: 'T',\n",
        "    56: 'U', 57: 'V', 58: 'W', 59: 'X', 60: 'Y', 61: 'Z'\n",
        "}"
      ],
      "metadata": {
        "id": "BbcLxIeOKd--"
      },
      "execution_count": 76,
      "outputs": []
    },
    {
      "cell_type": "code",
      "source": [
        "train_images = train_images.reshape(-1, 28, 28, 1)\n",
        "test_images = test_images.reshape(-1, 28, 28, 1)"
      ],
      "metadata": {
        "id": "TO1Wj5-_Kgpp"
      },
      "execution_count": 77,
      "outputs": []
    },
    {
      "cell_type": "code",
      "source": [
        "train_images.shape"
      ],
      "metadata": {
        "colab": {
          "base_uri": "https://localhost:8080/"
        },
        "id": "n3njoKr-Ki1M",
        "outputId": "95082575-702b-468b-f65c-aa1f2742f49e"
      },
      "execution_count": 78,
      "outputs": [
        {
          "output_type": "execute_result",
          "data": {
            "text/plain": [
              "(13521, 28, 28, 1)"
            ]
          },
          "metadata": {},
          "execution_count": 78
        }
      ]
    },
    {
      "cell_type": "code",
      "source": [
        "train_labels_one_hot = keras.utils.to_categorical(train_labels, num_classes=62)\n",
        "test_labels_one_hot = keras.utils.to_categorical(test_labels, num_classes=62)"
      ],
      "metadata": {
        "id": "jGUgqslAKk9Q"
      },
      "execution_count": 79,
      "outputs": []
    },
    {
      "cell_type": "code",
      "source": [
        "def create_model():\n",
        "  model = Sequential()\n",
        "\n",
        "  model.add(Conv2D(32, (5, 5), input_shape=(28, 28, 1), activation='relu'))\n",
        "  model.add(BatchNormalization())\n",
        "\n",
        "  model.add(Conv2D(32, (5, 5), activation='relu'))\n",
        "  model.add(BatchNormalization())\n",
        "  model.add(MaxPooling2D(2, 2))\n",
        "  model.add(Dropout(0.25))\n",
        "\n",
        "  model.add(BatchNormalization())\n",
        "  model.add(Flatten())\n",
        "\n",
        "  model.add(Dense(256, activation='relu'))\n",
        "  model.add(Dense(len(to_char), activation='softmax'))\n",
        "\n",
        "  model.compile(optimizer='adam', loss='categorical_crossentropy', metrics=['accuracy'])\n",
        "  return model\n",
        "\n",
        "model = create_model()\n",
        "model.summary()"
      ],
      "metadata": {
        "colab": {
          "base_uri": "https://localhost:8080/"
        },
        "id": "PRjZN8jUKrrn",
        "outputId": "221243e8-3f76-496b-8a26-67edf811c416"
      },
      "execution_count": 80,
      "outputs": [
        {
          "output_type": "stream",
          "name": "stdout",
          "text": [
            "Model: \"sequential_4\"\n",
            "_________________________________________________________________\n",
            " Layer (type)                Output Shape              Param #   \n",
            "=================================================================\n",
            " conv2d_8 (Conv2D)           (None, 24, 24, 32)        832       \n",
            "                                                                 \n",
            " batch_normalization_12 (Ba  (None, 24, 24, 32)        128       \n",
            " tchNormalization)                                               \n",
            "                                                                 \n",
            " conv2d_9 (Conv2D)           (None, 20, 20, 32)        25632     \n",
            "                                                                 \n",
            " batch_normalization_13 (Ba  (None, 20, 20, 32)        128       \n",
            " tchNormalization)                                               \n",
            "                                                                 \n",
            " max_pooling2d_4 (MaxPoolin  (None, 10, 10, 32)        0         \n",
            " g2D)                                                            \n",
            "                                                                 \n",
            " dropout_4 (Dropout)         (None, 10, 10, 32)        0         \n",
            "                                                                 \n",
            " batch_normalization_14 (Ba  (None, 10, 10, 32)        128       \n",
            " tchNormalization)                                               \n",
            "                                                                 \n",
            " flatten_4 (Flatten)         (None, 3200)              0         \n",
            "                                                                 \n",
            " dense_8 (Dense)             (None, 256)               819456    \n",
            "                                                                 \n",
            " dense_9 (Dense)             (None, 62)                15934     \n",
            "                                                                 \n",
            "=================================================================\n",
            "Total params: 862238 (3.29 MB)\n",
            "Trainable params: 862046 (3.29 MB)\n",
            "Non-trainable params: 192 (768.00 Byte)\n",
            "_________________________________________________________________\n"
          ]
        }
      ]
    },
    {
      "cell_type": "markdown",
      "source": [
        "## Test ACCURACY ---> 81.13%"
      ],
      "metadata": {
        "id": "JSMNU1TndUIo"
      }
    },
    {
      "cell_type": "code",
      "source": [
        "vk.layered_view(model)"
      ],
      "metadata": {
        "colab": {
          "base_uri": "https://localhost:8080/",
          "height": 145
        },
        "id": "gV81vA7gMGVB",
        "outputId": "ccb955fd-967b-4819-bcd6-35660a6edc40"
      },
      "execution_count": 81,
      "outputs": [
        {
          "output_type": "execute_result",
          "data": {
            "text/plain": [
              "<PIL.Image.Image image mode=RGBA size=635x128>"
            ],
            "image/png": "[encoded data removed]"
          },
          "metadata": {},
          "execution_count": 81
        }
      ]
    },
    {
      "cell_type": "code",
      "source": [
        "best_loss_checkpoint = ModelCheckpoint(\n",
        "    filepath=\"/content/best_loss_model.h5\",\n",
        "    monitor=\"loss\",\n",
        "    save_best_only=True,\n",
        "    save_weights_only=True,\n",
        "    mode=\"min\"\n",
        ")\n",
        "\n",
        "best_val_loss_checkpoint = ModelCheckpoint(\n",
        "    filepath=\"/content/best_val_loss_model.h5\",\n",
        "    monitor=\"val_loss\",\n",
        "    save_best_only=True,\n",
        "    save_weights_only=True,\n",
        "    mode=\"min\"\n",
        ")"
      ],
      "metadata": {
        "id": "ioV_9mB5NWwG"
      },
      "execution_count": 82,
      "outputs": []
    },
    {
      "cell_type": "code",
      "source": [
        "history = model.fit(train_images, train_labels_one_hot, validation_split=0.2, epochs=10, batch_size=100, callbacks=[best_loss_checkpoint, best_val_loss_checkpoint])"
      ],
      "metadata": {
        "colab": {
          "base_uri": "https://localhost:8080/"
        },
        "id": "7kX71OzfOAGo",
        "outputId": "99479f69-461f-425b-9315-173f1d62e10d"
      },
      "execution_count": 83,
      "outputs": [
        {
          "output_type": "stream",
          "name": "stdout",
          "text": [
            "Epoch 1/10\n",
            "109/109 [==============================] - 36s 313ms/step - loss: 1.3149 - accuracy: 0.6263 - val_loss: 4.9275 - val_accuracy: 0.0425\n",
            "Epoch 2/10\n",
            "109/109 [==============================] - 39s 361ms/step - loss: 0.5678 - accuracy: 0.8166 - val_loss: 6.1079 - val_accuracy: 0.0370\n",
            "Epoch 3/10\n",
            "109/109 [==============================] - 35s 323ms/step - loss: 0.3760 - accuracy: 0.8709 - val_loss: 6.4062 - val_accuracy: 0.0344\n",
            "Epoch 4/10\n",
            "109/109 [==============================] - 35s 319ms/step - loss: 0.2794 - accuracy: 0.8979 - val_loss: 2.5833 - val_accuracy: 0.2695\n",
            "Epoch 5/10\n",
            "109/109 [==============================] - 33s 302ms/step - loss: 0.1979 - accuracy: 0.9286 - val_loss: 1.0323 - val_accuracy: 0.6898\n",
            "Epoch 6/10\n",
            "109/109 [==============================] - 34s 310ms/step - loss: 0.1593 - accuracy: 0.9421 - val_loss: 0.7385 - val_accuracy: 0.7797\n",
            "Epoch 7/10\n",
            "109/109 [==============================] - 34s 311ms/step - loss: 0.1299 - accuracy: 0.9505 - val_loss: 0.7530 - val_accuracy: 0.8007\n",
            "Epoch 8/10\n",
            "109/109 [==============================] - 37s 342ms/step - loss: 0.1104 - accuracy: 0.9579 - val_loss: 0.7547 - val_accuracy: 0.8104\n",
            "Epoch 9/10\n",
            "109/109 [==============================] - 33s 299ms/step - loss: 0.1055 - accuracy: 0.9603 - val_loss: 0.8471 - val_accuracy: 0.8189\n",
            "Epoch 10/10\n",
            "109/109 [==============================] - 36s 329ms/step - loss: 0.1028 - accuracy: 0.9637 - val_loss: 0.8135 - val_accuracy: 0.8063\n"
          ]
        }
      ]
    },
    {
      "cell_type": "code",
      "source": [
        "plt.plot(range(10), history.history['loss'])\n",
        "plt.plot(range(10), history.history['val_loss'])\n",
        "plt.xlabel('Epochs')\n",
        "plt.ylabel('loss')\n",
        "plt.title('Loss')\n",
        "plt.show()"
      ],
      "metadata": {
        "colab": {
          "base_uri": "https://localhost:8080/",
          "height": 472
        },
        "id": "PlDwl990OXbh",
        "outputId": "3ebb0183-9d47-4a7b-cb1f-0b2df607bb06"
      },
      "execution_count": 84,
      "outputs": [
        {
          "output_type": "display_data",
          "data": {
            "text/plain": [
              "<Figure size 640x480 with 1 Axes>"
            ],
            "image/png": "[encoded data removed]"
          },
          "metadata": {}
        }
      ]
    },
    {
      "cell_type": "code",
      "source": [
        "plt.plot(range(10), history.history['accuracy'])\n",
        "plt.plot(range(10), history.history['val_accuracy'])\n",
        "plt.xlabel('Epochs')\n",
        "plt.ylabel('Accuracy')\n",
        "plt.title('accuracy')\n",
        "plt.show()"
      ],
      "metadata": {
        "colab": {
          "base_uri": "https://localhost:8080/",
          "height": 472
        },
        "id": "jPdRcJGWRfuI",
        "outputId": "08f75574-2f4f-4c83-d16b-fd3fc0560395"
      },
      "execution_count": 85,
      "outputs": [
        {
          "output_type": "display_data",
          "data": {
            "text/plain": [
              "<Figure size 640x480 with 1 Axes>"
            ],
            "image/png": "[encoded data removed]"
          },
          "metadata": {}
        }
      ]
    },
    {
      "cell_type": "code",
      "source": [
        "test_loss, test_accuracy = model.evaluate(test_images, test_labels_one_hot, verbose=2)\n",
        "print(f\"test loss : {test_loss}\\ntest accuracy : {test_accuracy}\")"
      ],
      "metadata": {
        "colab": {
          "base_uri": "https://localhost:8080/"
        },
        "id": "tFUjvB0CVK7c",
        "outputId": "5cf40bd8-0b63-4ba7-e3c4-551f5d9c514e"
      },
      "execution_count": 86,
      "outputs": [
        {
          "output_type": "stream",
          "name": "stdout",
          "text": [
            "423/423 - 11s - loss: 0.7689 - accuracy: 0.8113 - 11s/epoch - 25ms/step\n",
            "test loss : 0.768894612789154\n",
            "test accuracy : 0.8113165497779846\n"
          ]
        }
      ]
    },
    {
      "cell_type": "markdown",
      "source": [
        "## Test Accuracy ---> 79.18%"
      ],
      "metadata": {
        "id": "OnxCk8Afde1C"
      }
    },
    {
      "cell_type": "code",
      "source": [
        "model_2 = create_model()\n",
        "model_2.summary()"
      ],
      "metadata": {
        "colab": {
          "base_uri": "https://localhost:8080/"
        },
        "id": "TWe6jMoyYWOj",
        "outputId": "a8015586-19ca-4fa8-cff7-317805516a26"
      },
      "execution_count": 87,
      "outputs": [
        {
          "output_type": "stream",
          "name": "stdout",
          "text": [
            "Model: \"sequential_5\"\n",
            "_________________________________________________________________\n",
            " Layer (type)                Output Shape              Param #   \n",
            "=================================================================\n",
            " conv2d_10 (Conv2D)          (None, 24, 24, 32)        832       \n",
            "                                                                 \n",
            " batch_normalization_15 (Ba  (None, 24, 24, 32)        128       \n",
            " tchNormalization)                                               \n",
            "                                                                 \n",
            " conv2d_11 (Conv2D)          (None, 20, 20, 32)        25632     \n",
            "                                                                 \n",
            " batch_normalization_16 (Ba  (None, 20, 20, 32)        128       \n",
            " tchNormalization)                                               \n",
            "                                                                 \n",
            " max_pooling2d_5 (MaxPoolin  (None, 10, 10, 32)        0         \n",
            " g2D)                                                            \n",
            "                                                                 \n",
            " dropout_5 (Dropout)         (None, 10, 10, 32)        0         \n",
            "                                                                 \n",
            " batch_normalization_17 (Ba  (None, 10, 10, 32)        128       \n",
            " tchNormalization)                                               \n",
            "                                                                 \n",
            " flatten_5 (Flatten)         (None, 3200)              0         \n",
            "                                                                 \n",
            " dense_10 (Dense)            (None, 256)               819456    \n",
            "                                                                 \n",
            " dense_11 (Dense)            (None, 62)                15934     \n",
            "                                                                 \n",
            "=================================================================\n",
            "Total params: 862238 (3.29 MB)\n",
            "Trainable params: 862046 (3.29 MB)\n",
            "Non-trainable params: 192 (768.00 Byte)\n",
            "_________________________________________________________________\n"
          ]
        }
      ]
    },
    {
      "cell_type": "code",
      "source": [
        "best_loss_checkpoint_2 = ModelCheckpoint(\n",
        "    filepath=\"/content/best_loss_model_2.h5\",\n",
        "    monitor=\"loss\",\n",
        "    save_best_only=True,\n",
        "    save_weights_only=True,\n",
        "    mode=\"min\"\n",
        ")\n",
        "\n",
        "best_val_loss_checkpoint_2 = ModelCheckpoint(\n",
        "    filepath=\"/content/best_val_loss_model_2.h5\",\n",
        "    monitor=\"val_loss\",\n",
        "    save_best_only=True,\n",
        "    save_weights_only=True,\n",
        "    mode=\"min\"\n",
        ")"
      ],
      "metadata": {
        "id": "XxX9V2VtYWLV"
      },
      "execution_count": 88,
      "outputs": []
    },
    {
      "cell_type": "code",
      "source": [
        "history_2 = model_2.fit(train_images, train_labels_one_hot, validation_split=0.2, epochs=20, batch_size=100, callbacks=[best_loss_checkpoint_2, best_val_loss_checkpoint_2])"
      ],
      "metadata": {
        "colab": {
          "base_uri": "https://localhost:8080/"
        },
        "id": "8jZfUjRHVPaz",
        "outputId": "f22af5c8-3806-4d99-8b0f-5a0d8c04da0d"
      },
      "execution_count": 89,
      "outputs": [
        {
          "output_type": "stream",
          "name": "stdout",
          "text": [
            "Epoch 1/20\n",
            "109/109 [==============================] - 36s 318ms/step - loss: 1.3284 - accuracy: 0.6330 - val_loss: 5.3850 - val_accuracy: 0.0292\n",
            "Epoch 2/20\n",
            "109/109 [==============================] - 34s 315ms/step - loss: 0.5549 - accuracy: 0.8207 - val_loss: 8.2873 - val_accuracy: 0.0288\n",
            "Epoch 3/20\n",
            "109/109 [==============================] - 35s 322ms/step - loss: 0.3871 - accuracy: 0.8656 - val_loss: 7.3950 - val_accuracy: 0.0303\n",
            "Epoch 4/20\n",
            "109/109 [==============================] - 34s 314ms/step - loss: 0.2814 - accuracy: 0.8994 - val_loss: 4.1045 - val_accuracy: 0.1316\n",
            "Epoch 5/20\n",
            "109/109 [==============================] - 36s 334ms/step - loss: 0.2186 - accuracy: 0.9185 - val_loss: 1.7635 - val_accuracy: 0.4983\n",
            "Epoch 6/20\n",
            "109/109 [==============================] - 35s 322ms/step - loss: 0.1610 - accuracy: 0.9419 - val_loss: 0.8334 - val_accuracy: 0.7457\n",
            "Epoch 7/20\n",
            "109/109 [==============================] - 35s 326ms/step - loss: 0.1326 - accuracy: 0.9521 - val_loss: 0.6712 - val_accuracy: 0.8159\n",
            "Epoch 8/20\n",
            "109/109 [==============================] - 34s 314ms/step - loss: 0.1115 - accuracy: 0.9612 - val_loss: 0.6890 - val_accuracy: 0.8192\n",
            "Epoch 9/20\n",
            "109/109 [==============================] - 35s 322ms/step - loss: 0.0958 - accuracy: 0.9637 - val_loss: 0.7421 - val_accuracy: 0.8185\n",
            "Epoch 10/20\n",
            "109/109 [==============================] - 34s 314ms/step - loss: 0.0876 - accuracy: 0.9695 - val_loss: 0.7190 - val_accuracy: 0.8237\n",
            "Epoch 11/20\n",
            "109/109 [==============================] - 36s 332ms/step - loss: 0.0682 - accuracy: 0.9741 - val_loss: 0.7860 - val_accuracy: 0.8218\n",
            "Epoch 12/20\n",
            "109/109 [==============================] - 35s 318ms/step - loss: 0.0704 - accuracy: 0.9741 - val_loss: 0.8361 - val_accuracy: 0.8144\n",
            "Epoch 13/20\n",
            "109/109 [==============================] - 33s 305ms/step - loss: 0.0763 - accuracy: 0.9733 - val_loss: 0.8509 - val_accuracy: 0.8248\n",
            "Epoch 14/20\n",
            "109/109 [==============================] - 34s 313ms/step - loss: 0.0595 - accuracy: 0.9785 - val_loss: 0.8451 - val_accuracy: 0.8174\n",
            "Epoch 15/20\n",
            "109/109 [==============================] - 35s 323ms/step - loss: 0.0641 - accuracy: 0.9762 - val_loss: 0.9478 - val_accuracy: 0.8063\n",
            "Epoch 16/20\n",
            "109/109 [==============================] - 33s 305ms/step - loss: 0.0636 - accuracy: 0.9766 - val_loss: 0.9653 - val_accuracy: 0.8096\n",
            "Epoch 17/20\n",
            "109/109 [==============================] - 36s 334ms/step - loss: 0.0701 - accuracy: 0.9741 - val_loss: 1.0039 - val_accuracy: 0.8015\n",
            "Epoch 18/20\n",
            "109/109 [==============================] - 36s 326ms/step - loss: 0.0812 - accuracy: 0.9713 - val_loss: 1.0364 - val_accuracy: 0.8118\n",
            "Epoch 19/20\n",
            "109/109 [==============================] - 34s 315ms/step - loss: 0.0815 - accuracy: 0.9707 - val_loss: 1.1019 - val_accuracy: 0.7956\n",
            "Epoch 20/20\n",
            "109/109 [==============================] - 33s 302ms/step - loss: 0.0772 - accuracy: 0.9718 - val_loss: 1.3040 - val_accuracy: 0.7893\n"
          ]
        }
      ]
    },
    {
      "cell_type": "code",
      "source": [
        "plt.plot(range(20), history_2.history['loss'])\n",
        "plt.plot(range(20), history_2.history['val_loss'])\n",
        "plt.xlabel('Epochs')\n",
        "plt.ylabel('loss')\n",
        "plt.title('Loss')\n",
        "plt.show()"
      ],
      "metadata": {
        "colab": {
          "base_uri": "https://localhost:8080/",
          "height": 472
        },
        "id": "rrkbBMLtVPXb",
        "outputId": "71e2b756-21b5-4a6c-9294-6e84e2e0fcf0"
      },
      "execution_count": 90,
      "outputs": [
        {
          "output_type": "display_data",
          "data": {
            "text/plain": [
              "<Figure size 640x480 with 1 Axes>"
            ],
            "image/png": "[encoded data removed]"
          },
          "metadata": {}
        }
      ]
    },
    {
      "cell_type": "code",
      "source": [
        "plt.plot(range(20), history_2.history['accuracy'])\n",
        "plt.plot(range(20), history_2.history['val_accuracy'])\n",
        "plt.xlabel('Epochs')\n",
        "plt.ylabel('accuracy')\n",
        "plt.title('Accuracy')\n",
        "plt.show()"
      ],
      "metadata": {
        "colab": {
          "base_uri": "https://localhost:8080/",
          "height": 472
        },
        "id": "60kXTPsCVPQP",
        "outputId": "3c4048aa-06cc-4346-d647-93c048564a42"
      },
      "execution_count": 91,
      "outputs": [
        {
          "output_type": "display_data",
          "data": {
            "text/plain": [
              "<Figure size 640x480 with 1 Axes>"
            ],
            "image/png": "[encoded data removed]"
          },
          "metadata": {}
        }
      ]
    },
    {
      "cell_type": "code",
      "source": [
        "test_loss_2, test_accuracy_2 = model_2.evaluate(test_images, test_labels_one_hot, verbose=2)\n",
        "print(f\"test loss : {test_loss_2}\\ntest accuracy : {test_accuracy_2}\")"
      ],
      "metadata": {
        "colab": {
          "base_uri": "https://localhost:8080/"
        },
        "id": "9uiw5Hp8WRcF",
        "outputId": "96d44f26-3ebb-4ee7-e088-6145b02d8d67"
      },
      "execution_count": 92,
      "outputs": [
        {
          "output_type": "stream",
          "name": "stdout",
          "text": [
            "423/423 - 11s - loss: 1.2975 - accuracy: 0.7919 - 11s/epoch - 26ms/step\n",
            "test loss : 1.2974815368652344\n",
            "test accuracy : 0.7918639183044434\n"
          ]
        }
      ]
    },
    {
      "cell_type": "code",
      "source": [],
      "metadata": {
        "id": "uL317OkjXknh"
      },
      "execution_count": 92,
      "outputs": []
    }
  ]
}